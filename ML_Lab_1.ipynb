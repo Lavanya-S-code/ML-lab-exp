{
  "nbformat": 4,
  "nbformat_minor": 0,
  "metadata": {
    "colab": {
      "provenance": [],
      "authorship_tag": "ABX9TyOJnteAaqHAXNkDxR6G+NgS",
      "include_colab_link": true
    },
    "kernelspec": {
      "name": "python3",
      "display_name": "Python 3"
    },
    "language_info": {
      "name": "python"
    }
  },
  "cells": [
    {
      "cell_type": "markdown",
      "metadata": {
        "id": "view-in-github",
        "colab_type": "text"
      },
      "source": [
        "<a href=\"https://colab.research.google.com/github/Lavanya-S-code/ML-lab-exp/blob/main/ML_Lab_1.ipynb\" target=\"_parent\"><img src=\"https://colab.research.google.com/assets/colab-badge.svg\" alt=\"Open In Colab\"/></a>"
      ]
    },
    {
      "cell_type": "code",
      "execution_count": 2,
      "metadata": {
        "colab": {
          "base_uri": "https://localhost:8080/"
        },
        "id": "1-4zK1sGfnLm",
        "outputId": "f38ea103-c6c4-4723-8f1b-6e4459b3e461"
      },
      "outputs": [
        {
          "output_type": "stream",
          "name": "stdout",
          "text": [
            "Enter a number:10\n",
            "Enter a number:20\n",
            "The sum of 10 and 20 is 30\n"
          ]
        }
      ],
      "source": [
        "a=int(input(\"Enter a number:\"))\n",
        "b=int(input(\"Enter a number:\"))\n",
        "sum_result=a+b\n",
        "print(\"The sum of\",a,\"and\",b,\"is\",sum_result)"
      ]
    },
    {
      "cell_type": "code",
      "source": [
        "num=int(input(\"Enter a number:\"))\n",
        "if num%2==0:\n",
        "  print(num,\"is Even\")\n",
        "else:\n",
        "  print(num,\"is Odd\")"
      ],
      "metadata": {
        "colab": {
          "base_uri": "https://localhost:8080/"
        },
        "id": "-wYTSBJKfvan",
        "outputId": "44b6a3d6-512f-48dc-b838-aec7aed9876a"
      },
      "execution_count": 3,
      "outputs": [
        {
          "output_type": "stream",
          "name": "stdout",
          "text": [
            "Enter a number:3\n",
            "3 is Odd\n"
          ]
        }
      ]
    },
    {
      "cell_type": "code",
      "source": [
        "a=int(input(\"Enter first number:\"))\n",
        "b=int(input(\"Enter second number:\"))\n",
        "c=int(input(\"Enter third number:\"))\n",
        "d=int(input(\"Enter fourth number:\"))\n",
        "largest=max(a,b,c,d)\n",
        "print(\"The largest number is:\",largest)"
      ],
      "metadata": {
        "colab": {
          "base_uri": "https://localhost:8080/"
        },
        "id": "Co11X8BXgCno",
        "outputId": "c78f1dc6-d2f8-464b-9e39-50eb9a040b29"
      },
      "execution_count": 5,
      "outputs": [
        {
          "output_type": "stream",
          "name": "stdout",
          "text": [
            "Enter first number:0\n",
            "Enter second number:3\n",
            "Enter third number:6\n",
            "Enter fourth number:9\n",
            "The largest number is: 9\n"
          ]
        }
      ]
    },
    {
      "cell_type": "code",
      "source": [
        "num=int(input(\"Enter a number:\"))\n",
        "factorial=1\n",
        "for i in range(1,num+1):\n",
        "  factorial*=i\n",
        "print(\"Factorial of\",num,\"is\",factorial)"
      ],
      "metadata": {
        "colab": {
          "base_uri": "https://localhost:8080/"
        },
        "id": "qa90m27zgFoZ",
        "outputId": "c7698720-0a2a-4fa8-c8ad-dd4c0bb2a42f"
      },
      "execution_count": 6,
      "outputs": [
        {
          "output_type": "stream",
          "name": "stdout",
          "text": [
            "Enter a number:3\n",
            "Factorial of 3 is 6\n"
          ]
        }
      ]
    },
    {
      "cell_type": "code",
      "source": [
        "num=int(input(\"Enter a number:\"))\n",
        "if num>1:\n",
        "  for i in range(2,num):\n",
        "    if num%i==0:\n",
        "      print(num,\"is NOT a prime number\")\n",
        "      break\n",
        "    else:\n",
        "        print(num,\"is a Prime number\")\n",
        "  else:\n",
        "    print(num,\"is NOT a Prime number\")"
      ],
      "metadata": {
        "colab": {
          "base_uri": "https://localhost:8080/"
        },
        "id": "dhjr8NnogIVt",
        "outputId": "619e1406-426e-410f-8a43-230ac491092d"
      },
      "execution_count": 7,
      "outputs": [
        {
          "output_type": "stream",
          "name": "stdout",
          "text": [
            "Enter a number:2\n",
            "2 is NOT a Prime number\n"
          ]
        }
      ]
    },
    {
      "cell_type": "code",
      "source": [
        "num=int(input(\"Enter a number:\"))\n",
        "reverse=0\n",
        "temp=num\n",
        "while temp>0:\n",
        "  digit=temp%10\n",
        "  reverse=reverse*10+digit\n",
        "  temp//=10\n",
        "print(\"Reversed number is:\",reverse)"
      ],
      "metadata": {
        "colab": {
          "base_uri": "https://localhost:8080/"
        },
        "id": "LGwxGa8wgojQ",
        "outputId": "ddfce620-7c8b-4d6d-b9a1-c21a64cd8666"
      },
      "execution_count": 9,
      "outputs": [
        {
          "output_type": "stream",
          "name": "stdout",
          "text": [
            "Enter a number:3143\n",
            "Reversed number is: 3413\n"
          ]
        }
      ]
    },
    {
      "cell_type": "code",
      "source": [
        "s=input(\"Enter a string:\")\n",
        "if s==s[::-1]:\n",
        "  print(\"The string is a Palindrome\")\n",
        "else:\n",
        "  print(\"The string is NOT a palindrome\")\n"
      ],
      "metadata": {
        "colab": {
          "base_uri": "https://localhost:8080/"
        },
        "id": "6JSvIGhJg7P_",
        "outputId": "c861c775-c6b3-4418-cc93-3dc78182e21c"
      },
      "execution_count": 10,
      "outputs": [
        {
          "output_type": "stream",
          "name": "stdout",
          "text": [
            "Enter a string:malayalam\n",
            "The string is a Palindrome\n"
          ]
        }
      ]
    },
    {
      "cell_type": "code",
      "source": [
        "num=input(\"Enter a number:\")\n",
        "sum_digits=sum(int(d) for d in num)\n",
        "print(\"Sum of digits of\",num,\"is\",sum_digits)"
      ],
      "metadata": {
        "colab": {
          "base_uri": "https://localhost:8080/"
        },
        "id": "ugG3kQfKg9ct",
        "outputId": "ec90af73-8f04-4296-f23c-cf8007ca6657"
      },
      "execution_count": 11,
      "outputs": [
        {
          "output_type": "stream",
          "name": "stdout",
          "text": [
            "Enter a number:3143\n",
            "Sum of digits of 3143 is 11\n"
          ]
        }
      ]
    },
    {
      "cell_type": "code",
      "source": [
        "num=int(input(\"Enter a number:\"))\n",
        "print(f\"Multiplication Table of{num}:\")\n",
        "for i in range(1,11):\n",
        "  print(f\"{num}*{i}={num*i}\")"
      ],
      "metadata": {
        "colab": {
          "base_uri": "https://localhost:8080/"
        },
        "id": "zUWwLKCghAfr",
        "outputId": "340f0497-2f7b-4409-f1da-8d46ed3af51f"
      },
      "execution_count": 13,
      "outputs": [
        {
          "output_type": "stream",
          "name": "stdout",
          "text": [
            "Enter a number:3\n",
            "Multiplication Table of3:\n",
            "3*1=3\n",
            "3*2=6\n",
            "3*3=9\n",
            "3*4=12\n",
            "3*5=15\n",
            "3*6=18\n",
            "3*7=21\n",
            "3*8=24\n",
            "3*9=27\n",
            "3*10=30\n"
          ]
        }
      ]
    },
    {
      "cell_type": "code",
      "source": [
        "a=float(input(\"Enter first number:\"))\n",
        "b=float(input(\"Enter second number:\"))\n",
        "op=input(\"Enter operation(+,-,*,/):\")\n",
        "if op=='+':\n",
        "  print(\"Result:\",a+b)\n",
        "elif op=='-':\n",
        "  print(\"Result:\",a-b)\n",
        "elif op=='*':\n",
        "  print(\"Result:\",a*b)\n",
        "elif op=='/':\n",
        "  if b!=0:\n",
        "    print(\"Result:\",a/b)\n",
        "  else:\n",
        "    print(\"Error:Division by zero\")\n",
        "else:\n",
        "    print(\"Invalid operator\")\n"
      ],
      "metadata": {
        "colab": {
          "base_uri": "https://localhost:8080/"
        },
        "id": "OWTNYqDchC6u",
        "outputId": "f7a51852-f7a0-4504-e25e-4c3b262cd432"
      },
      "execution_count": 14,
      "outputs": [
        {
          "output_type": "stream",
          "name": "stdout",
          "text": [
            "Enter first number:10\n",
            "Enter second number:5\n",
            "Enter operation(+,-,*,/):/\n",
            "Result: 2.0\n"
          ]
        }
      ]
    },
    {
      "cell_type": "code",
      "source": [
        "num=int(input(\"Number:\"))\n",
        "for i in range(1,(num+1),1):\n",
        "  print(\"*\"*i)"
      ],
      "metadata": {
        "colab": {
          "base_uri": "https://localhost:8080/"
        },
        "id": "4gAuksabhFdZ",
        "outputId": "c0c56881-1e41-42cb-bc3a-5ea104691415"
      },
      "execution_count": 15,
      "outputs": [
        {
          "output_type": "stream",
          "name": "stdout",
          "text": [
            "Number:5\n",
            "*\n",
            "**\n",
            "***\n",
            "****\n",
            "*****\n"
          ]
        }
      ]
    }
  ]
}