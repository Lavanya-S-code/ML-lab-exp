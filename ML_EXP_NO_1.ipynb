{
  "nbformat": 4,
  "nbformat_minor": 0,
  "metadata": {
    "colab": {
      "provenance": [],
      "authorship_tag": "ABX9TyM9kTWVlyuAZ94840myQzns",
      "include_colab_link": true
    },
    "kernelspec": {
      "name": "python3",
      "display_name": "Python 3"
    },
    "language_info": {
      "name": "python"
    }
  },
  "cells": [
    {
      "cell_type": "markdown",
      "metadata": {
        "id": "view-in-github",
        "colab_type": "text"
      },
      "source": [
        "<a href=\"https://colab.research.google.com/github/Lavanya-S-code/ML-lab-exp/blob/main/ML_EXP_NO_1.ipynb\" target=\"_parent\"><img src=\"https://colab.research.google.com/assets/colab-badge.svg\" alt=\"Open In Colab\"/></a>"
      ]
    },
    {
      "cell_type": "code",
      "execution_count": 7,
      "metadata": {
        "colab": {
          "base_uri": "https://localhost:8080/"
        },
        "id": "eOpTgrAgJOP9",
        "outputId": "d6732ec4-3cbe-4eaf-c338-0b3ce1e105b5"
      },
      "outputs": [
        {
          "output_type": "stream",
          "name": "stdout",
          "text": [
            "First five rows of the dataset:\n",
            "   MODELYEAR   MAKE       MODEL VEHICLECLASS  ENGINESIZE  CYLINDERS  \\\n",
            "0       2014  ACURA         ILX      COMPACT         2.0          4   \n",
            "1       2014  ACURA         ILX      COMPACT         2.4          4   \n",
            "2       2014  ACURA  ILX HYBRID      COMPACT         1.5          4   \n",
            "3       2014  ACURA     MDX 4WD  SUV - SMALL         3.5          6   \n",
            "4       2014  ACURA     RDX AWD  SUV - SMALL         3.5          6   \n",
            "\n",
            "  TRANSMISSION FUELTYPE  FUELCONSUMPTION_CITY  FUELCONSUMPTION_HWY  \\\n",
            "0          AS5        Z                   9.9                  6.7   \n",
            "1           M6        Z                  11.2                  7.7   \n",
            "2          AV7        Z                   6.0                  5.8   \n",
            "3          AS6        Z                  12.7                  9.1   \n",
            "4          AS6        Z                  12.1                  8.7   \n",
            "\n",
            "   FUELCONSUMPTION_COMB  FUELCONSUMPTION_COMB_MPG  CO2EMISSIONS  \n",
            "0                   8.5                        33           196  \n",
            "1                   9.6                        29           221  \n",
            "2                   5.9                        48           136  \n",
            "3                  11.1                        25           255  \n",
            "4                  10.6                        27           244  \n",
            "Last five rows of the dataset:\n",
            "      MODELYEAR   MAKE     MODEL    VEHICLECLASS  ENGINESIZE  CYLINDERS  \\\n",
            "1062       2014  VOLVO  XC60 AWD     SUV - SMALL         3.0          6   \n",
            "1063       2014  VOLVO  XC60 AWD     SUV - SMALL         3.2          6   \n",
            "1064       2014  VOLVO  XC70 AWD     SUV - SMALL         3.0          6   \n",
            "1065       2014  VOLVO  XC70 AWD     SUV - SMALL         3.2          6   \n",
            "1066       2014  VOLVO  XC90 AWD  SUV - STANDARD         3.2          6   \n",
            "\n",
            "     TRANSMISSION FUELTYPE  FUELCONSUMPTION_CITY  FUELCONSUMPTION_HWY  \\\n",
            "1062          AS6        X                  13.4                  9.8   \n",
            "1063          AS6        X                  13.2                  9.5   \n",
            "1064          AS6        X                  13.4                  9.8   \n",
            "1065          AS6        X                  12.9                  9.3   \n",
            "1066          AS6        X                  14.9                 10.2   \n",
            "\n",
            "      FUELCONSUMPTION_COMB  FUELCONSUMPTION_COMB_MPG  CO2EMISSIONS  \n",
            "1062                  11.8                        24           271  \n",
            "1063                  11.5                        25           264  \n",
            "1064                  11.8                        24           271  \n",
            "1065                  11.3                        25           260  \n",
            "1066                  12.8                        22           294  \n",
            "\\Column Names:\n",
            "['MODELYEAR', 'MAKE', 'MODEL', 'VEHICLECLASS', 'ENGINESIZE', 'CYLINDERS', 'TRANSMISSION', 'FUELTYPE', 'FUELCONSUMPTION_CITY', 'FUELCONSUMPTION_HWY', 'FUELCONSUMPTION_COMB', 'FUELCONSUMPTION_COMB_MPG', 'CO2EMISSIONS']\n",
            "\n",
            "Shape of the dataset(rows,columns): (1067, 13)\n",
            "\n",
            " Datatypes:\n",
            "MODELYEAR                     int64\n",
            "MAKE                         object\n",
            "MODEL                        object\n",
            "VEHICLECLASS                 object\n",
            "ENGINESIZE                  float64\n",
            "CYLINDERS                     int64\n",
            "TRANSMISSION                 object\n",
            "FUELTYPE                     object\n",
            "FUELCONSUMPTION_CITY        float64\n",
            "FUELCONSUMPTION_HWY         float64\n",
            "FUELCONSUMPTION_COMB        float64\n",
            "FUELCONSUMPTION_COMB_MPG      int64\n",
            "CO2EMISSIONS                  int64\n",
            "dtype: object\n",
            "\n",
            " Summary statistics:\n",
            "        MODELYEAR  MAKE         MODEL VEHICLECLASS   ENGINESIZE    CYLINDERS  \\\n",
            "count      1067.0  1067          1067         1067  1067.000000  1067.000000   \n",
            "unique        NaN    39           663           16          NaN          NaN   \n",
            "top           NaN  FORD  F150 FFV 4X4     MID-SIZE          NaN          NaN   \n",
            "freq          NaN    90             8          178          NaN          NaN   \n",
            "mean       2014.0   NaN           NaN          NaN     3.346298     5.794752   \n",
            "std           0.0   NaN           NaN          NaN     1.415895     1.797447   \n",
            "min        2014.0   NaN           NaN          NaN     1.000000     3.000000   \n",
            "25%        2014.0   NaN           NaN          NaN     2.000000     4.000000   \n",
            "50%        2014.0   NaN           NaN          NaN     3.400000     6.000000   \n",
            "75%        2014.0   NaN           NaN          NaN     4.300000     8.000000   \n",
            "max        2014.0   NaN           NaN          NaN     8.400000    12.000000   \n",
            "\n",
            "       TRANSMISSION FUELTYPE  FUELCONSUMPTION_CITY  FUELCONSUMPTION_HWY  \\\n",
            "count          1067     1067           1067.000000          1067.000000   \n",
            "unique           22        4                   NaN                  NaN   \n",
            "top              A6        X                   NaN                  NaN   \n",
            "freq            222      514                   NaN                  NaN   \n",
            "mean            NaN      NaN             13.296532             9.474602   \n",
            "std             NaN      NaN              4.101253             2.794510   \n",
            "min             NaN      NaN              4.600000             4.900000   \n",
            "25%             NaN      NaN             10.250000             7.500000   \n",
            "50%             NaN      NaN             12.600000             8.800000   \n",
            "75%             NaN      NaN             15.550000            10.850000   \n",
            "max             NaN      NaN             30.200000            20.500000   \n",
            "\n",
            "        FUELCONSUMPTION_COMB  FUELCONSUMPTION_COMB_MPG  CO2EMISSIONS  \n",
            "count            1067.000000               1067.000000   1067.000000  \n",
            "unique                   NaN                       NaN           NaN  \n",
            "top                      NaN                       NaN           NaN  \n",
            "freq                     NaN                       NaN           NaN  \n",
            "mean               11.580881                 26.441425    256.228679  \n",
            "std                 3.485595                  7.468702     63.372304  \n",
            "min                 4.700000                 11.000000    108.000000  \n",
            "25%                 9.000000                 21.000000    207.000000  \n",
            "50%                10.900000                 26.000000    251.000000  \n",
            "75%                13.350000                 31.000000    294.000000  \n",
            "max                25.800000                 60.000000    488.000000  \n",
            "\n",
            " Info:\n",
            "<class 'pandas.core.frame.DataFrame'>\n",
            "RangeIndex: 1067 entries, 0 to 1066\n",
            "Data columns (total 13 columns):\n",
            " #   Column                    Non-Null Count  Dtype  \n",
            "---  ------                    --------------  -----  \n",
            " 0   MODELYEAR                 1067 non-null   int64  \n",
            " 1   MAKE                      1067 non-null   object \n",
            " 2   MODEL                     1067 non-null   object \n",
            " 3   VEHICLECLASS              1067 non-null   object \n",
            " 4   ENGINESIZE                1067 non-null   float64\n",
            " 5   CYLINDERS                 1067 non-null   int64  \n",
            " 6   TRANSMISSION              1067 non-null   object \n",
            " 7   FUELTYPE                  1067 non-null   object \n",
            " 8   FUELCONSUMPTION_CITY      1067 non-null   float64\n",
            " 9   FUELCONSUMPTION_HWY       1067 non-null   float64\n",
            " 10  FUELCONSUMPTION_COMB      1067 non-null   float64\n",
            " 11  FUELCONSUMPTION_COMB_MPG  1067 non-null   int64  \n",
            " 12  CO2EMISSIONS              1067 non-null   int64  \n",
            "dtypes: float64(4), int64(4), object(5)\n",
            "memory usage: 108.5+ KB\n",
            "None\n",
            "\n",
            "Missing values in each column:\n",
            "MODELYEAR                   0\n",
            "MAKE                        0\n",
            "MODEL                       0\n",
            "VEHICLECLASS                0\n",
            "ENGINESIZE                  0\n",
            "CYLINDERS                   0\n",
            "TRANSMISSION                0\n",
            "FUELTYPE                    0\n",
            "FUELCONSUMPTION_CITY        0\n",
            "FUELCONSUMPTION_HWY         0\n",
            "FUELCONSUMPTION_COMB        0\n",
            "FUELCONSUMPTION_COMB_MPG    0\n",
            "CO2EMISSIONS                0\n",
            "dtype: int64\n"
          ]
        }
      ],
      "source": [
        "# step 1: Import the required library\n",
        "import pandas as pd\n",
        "\n",
        "# step 2: Load the dataset from a csv file\n",
        "# Ensure titanic_sample.csv in the file\n",
        "df=pd.read_csv('/content/FuelConsumption (2).csv')\n",
        "# step 3: Display the first five rows\n",
        "print(\"First five rows of the dataset:\")\n",
        "print(df.head())\n",
        "# Display the last five rows\n",
        "print(\"Last five rows of the dataset:\")\n",
        "print(df.tail())\n",
        "# step 4: Display columns name\n",
        "print(\"\\Column Names:\")\n",
        "print(df.columns.tolist())\n",
        "# step 5: Display the shape of the dataset\n",
        "print(\"\\nShape of the dataset(rows,columns):\",df.shape)\n",
        "# step 6: Display data types of each column\n",
        "print(\"\\n Datatypes:\")\n",
        "print(df.dtypes)\n",
        "# step 7: Display summary statistics\n",
        "print(\"\\n Summary statistics:\")\n",
        "print(df.describe(include='all'))# display range of values\n",
        "print(\"\\n Info:\")\n",
        "print(df.info())# display no of columns,rows,null and no need arguement\n",
        "# step 8: Display count of missing value\n",
        "print(\"\\nMissing values in each column:\")\n",
        "print(df.isnull().sum())\n"
      ]
    },
    {
      "cell_type": "markdown",
      "source": [
        "Program for doping forwardfill and backwardfill"
      ],
      "metadata": {
        "id": "GpFyw1ljNeWF"
      }
    },
    {
      "cell_type": "code",
      "source": [
        "#Forward fill\n",
        "df_ffill=df.copy()\n",
        "df_ffill['FUELCONSUMPTION_CITY']=df_ffill['FUELCONSUMPTION_CITY'].fillna(method='ffill')\n",
        "print(\"\\n Missing values after forward fill:\")\n",
        "print(df_ffill.isnull().sum())"
      ],
      "metadata": {
        "colab": {
          "base_uri": "https://localhost:8080/"
        },
        "id": "OsX2ldS2No4E",
        "outputId": "68cf1b1d-197b-4a65-d0d9-d99be2ab202e"
      },
      "execution_count": 8,
      "outputs": [
        {
          "output_type": "stream",
          "name": "stdout",
          "text": [
            "\n",
            " Missing values after forward fill:\n",
            "MODELYEAR                   0\n",
            "MAKE                        0\n",
            "MODEL                       0\n",
            "VEHICLECLASS                0\n",
            "ENGINESIZE                  0\n",
            "CYLINDERS                   0\n",
            "TRANSMISSION                0\n",
            "FUELTYPE                    0\n",
            "FUELCONSUMPTION_CITY        0\n",
            "FUELCONSUMPTION_HWY         0\n",
            "FUELCONSUMPTION_COMB        0\n",
            "FUELCONSUMPTION_COMB_MPG    0\n",
            "CO2EMISSIONS                0\n",
            "dtype: int64\n"
          ]
        },
        {
          "output_type": "stream",
          "name": "stderr",
          "text": [
            "/tmp/ipython-input-44957805.py:2: FutureWarning: Series.fillna with 'method' is deprecated and will raise in a future version. Use obj.ffill() or obj.bfill() instead.\n",
            "  df_ffill['FUELCONSUMPTION_CITY']=df_ffill['FUELCONSUMPTION_CITY'].fillna(method='ffill')\n"
          ]
        }
      ]
    },
    {
      "cell_type": "code",
      "source": [
        "# Backward fill\n",
        "df_bfill=df.copy()\n",
        "df_bfill['FUELCONSUMPTION_CITY']=df_bfill['FUELCONSUMPTION_CITY'].fillna(method='bfill')\n",
        "print(\"\\n Misiing values after backward fill:\")\n",
        "print(df_bfill.isnull().sum())"
      ],
      "metadata": {
        "colab": {
          "base_uri": "https://localhost:8080/"
        },
        "id": "B4OLGX4oOxoM",
        "outputId": "1132a1b1-1fde-40f1-bca0-6b084ff9cd0b"
      },
      "execution_count": 16,
      "outputs": [
        {
          "output_type": "stream",
          "name": "stdout",
          "text": [
            "\n",
            " Misiing values after backward fill:\n",
            "MODELYEAR                   0\n",
            "MAKE                        0\n",
            "MODEL                       0\n",
            "VEHICLECLASS                0\n",
            "ENGINESIZE                  0\n",
            "CYLINDERS                   0\n",
            "TRANSMISSION                0\n",
            "FUELTYPE                    0\n",
            "FUELCONSUMPTION_CITY        0\n",
            "FUELCONSUMPTION_HWY         0\n",
            "FUELCONSUMPTION_COMB        0\n",
            "FUELCONSUMPTION_COMB_MPG    0\n",
            "CO2EMISSIONS                0\n",
            "dtype: int64\n"
          ]
        },
        {
          "output_type": "stream",
          "name": "stderr",
          "text": [
            "/tmp/ipython-input-242190623.py:3: FutureWarning: Series.fillna with 'method' is deprecated and will raise in a future version. Use obj.ffill() or obj.bfill() instead.\n",
            "  df_bfill['FUELCONSUMPTION_CITY']=df_bfill['FUELCONSUMPTION_CITY'].fillna(method='bfill')\n"
          ]
        }
      ]
    },
    {
      "cell_type": "code",
      "source": [
        "import pandas as pd\n",
        "from sklearn.preprocessing import LabelEncoder\n",
        "\n",
        "df_encoded=df.copy()\n",
        "le=LabelEncoder()\n",
        "df_encoded['VEHICLECLASS']=le.fit_transform(df_encoded['VEHICLECLASS'])\n",
        "print(df_encoded[['VEHICLECLASS']])\n",
        "print(df_encoded[['VEHICLECLASS']].drop_duplicates())"
      ],
      "metadata": {
        "colab": {
          "base_uri": "https://localhost:8080/"
        },
        "id": "qUZuY5nCVmwW",
        "outputId": "ace23129-a59d-45d1-d2e7-e9d7f84771f6"
      },
      "execution_count": 15,
      "outputs": [
        {
          "output_type": "stream",
          "name": "stdout",
          "text": [
            "      VEHICLECLASS\n",
            "0                0\n",
            "1                0\n",
            "2                0\n",
            "3               11\n",
            "4               11\n",
            "...            ...\n",
            "1062            11\n",
            "1063            11\n",
            "1064            11\n",
            "1065            11\n",
            "1066            12\n",
            "\n",
            "[1067 rows x 1 columns]\n",
            "     VEHICLECLASS\n",
            "0               0\n",
            "3              11\n",
            "5               2\n",
            "12              3\n",
            "13             10\n",
            "14             13\n",
            "33              1\n",
            "37              9\n",
            "42             12\n",
            "210            14\n",
            "219            15\n",
            "237             6\n",
            "291             4\n",
            "428             7\n",
            "618             8\n",
            "839             5\n"
          ]
        }
      ]
    },
    {
      "cell_type": "code",
      "source": [],
      "metadata": {
        "id": "8RxE1nJxXiaM"
      },
      "execution_count": null,
      "outputs": []
    }
  ]
}