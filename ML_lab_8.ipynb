{
  "nbformat": 4,
  "nbformat_minor": 0,
  "metadata": {
    "colab": {
      "provenance": [],
      "authorship_tag": "ABX9TyM9/0XNrR4IoQvFTRt2uP/L",
      "include_colab_link": true
    },
    "kernelspec": {
      "name": "python3",
      "display_name": "Python 3"
    },
    "language_info": {
      "name": "python"
    }
  },
  "cells": [
    {
      "cell_type": "markdown",
      "metadata": {
        "id": "view-in-github",
        "colab_type": "text"
      },
      "source": [
        "<a href=\"https://colab.research.google.com/github/Lavanya-S-code/ML-lab-exp/blob/main/ML_lab_8.ipynb\" target=\"_parent\"><img src=\"https://colab.research.google.com/assets/colab-badge.svg\" alt=\"Open In Colab\"/></a>"
      ]
    },
    {
      "cell_type": "markdown",
      "source": [
        "Import the required library"
      ],
      "metadata": {
        "id": "EjdB0ZkGn269"
      }
    },
    {
      "cell_type": "code",
      "source": [
        "!pip install hmmlearn"
      ],
      "metadata": {
        "colab": {
          "base_uri": "https://localhost:8080/"
        },
        "id": "ewgVMJsirdyd",
        "outputId": "876af00b-74e0-4672-d33c-cd748ce4f132"
      },
      "execution_count": 45,
      "outputs": [
        {
          "output_type": "stream",
          "name": "stdout",
          "text": [
            "Requirement already satisfied: hmmlearn in /usr/local/lib/python3.12/dist-packages (0.3.3)\n",
            "Requirement already satisfied: numpy>=1.10 in /usr/local/lib/python3.12/dist-packages (from hmmlearn) (2.0.2)\n",
            "Requirement already satisfied: scikit-learn!=0.22.0,>=0.16 in /usr/local/lib/python3.12/dist-packages (from hmmlearn) (1.6.1)\n",
            "Requirement already satisfied: scipy>=0.19 in /usr/local/lib/python3.12/dist-packages (from hmmlearn) (1.16.2)\n",
            "Requirement already satisfied: joblib>=1.2.0 in /usr/local/lib/python3.12/dist-packages (from scikit-learn!=0.22.0,>=0.16->hmmlearn) (1.5.2)\n",
            "Requirement already satisfied: threadpoolctl>=3.1.0 in /usr/local/lib/python3.12/dist-packages (from scikit-learn!=0.22.0,>=0.16->hmmlearn) (3.6.0)\n"
          ]
        }
      ]
    },
    {
      "cell_type": "code",
      "source": [
        "\n",
        "from hmmlearn import hmm\n",
        "import numpy as np"
      ],
      "metadata": {
        "id": "8QcFm7INn-IQ"
      },
      "execution_count": 46,
      "outputs": []
    },
    {
      "cell_type": "markdown",
      "source": [
        "# Hidden states and observation symbols"
      ],
      "metadata": {
        "id": "l7XaBymknbbu"
      }
    },
    {
      "cell_type": "code",
      "source": [
        "states=[\"sunny\",\"rainy\"]\n",
        "observations=[\"walk\",\"shop\",\"clean\"]"
      ],
      "metadata": {
        "id": "J5X37rgmnjeN"
      },
      "execution_count": 47,
      "outputs": []
    },
    {
      "cell_type": "markdown",
      "source": [
        "Define hmm parameters"
      ],
      "metadata": {
        "id": "s-wNzvtdoHgf"
      }
    },
    {
      "cell_type": "code",
      "source": [
        "start_prob=np.array([0.7,0.3])\n",
        "trans_mat=np.array([[0.8,0.2],\n",
        "                   [0.3,0.7]])\n",
        "emit_mat=np.array([[0.6,0.3,0.1],#sunny\n",
        "                   [0.1,0.4,0.5]])# rainy"
      ],
      "metadata": {
        "id": "QqGW_C7-oKvf"
      },
      "execution_count": 48,
      "outputs": []
    },
    {
      "cell_type": "markdown",
      "source": [
        "Build the model"
      ],
      "metadata": {
        "id": "GgMxZ9Poo6dG"
      }
    },
    {
      "cell_type": "code",
      "source": [
        "model=hmm.MultinomialHMM(n_components=2,n_iter=100)\n",
        "model.startprob_=start_prob\n",
        "model.transmat_=trans_mat\n",
        "model.emissionprob_=emit_mat\n",
        "model.n_trials=1#one trial per observation"
      ],
      "metadata": {
        "colab": {
          "base_uri": "https://localhost:8080/"
        },
        "id": "9cKybJfIo8jv",
        "outputId": "f6b86cfb-a53c-4bf9-e0c7-65819c2ce6c3"
      },
      "execution_count": 49,
      "outputs": [
        {
          "output_type": "stream",
          "name": "stderr",
          "text": [
            "WARNING:hmmlearn.hmm:MultinomialHMM has undergone major changes. The previous version was implementing a CategoricalHMM (a special case of MultinomialHMM). This new implementation follows the standard definition for a Multinomial distribution (e.g. as in https://en.wikipedia.org/wiki/Multinomial_distribution). See these issues for details:\n",
            "https://github.com/hmmlearn/hmmlearn/issues/335\n",
            "https://github.com/hmmlearn/hmmlearn/issues/340\n"
          ]
        }
      ]
    },
    {
      "cell_type": "markdown",
      "source": [
        "### observed sequence:walk(0),shop(1),clean(2),shop(1),walk(0)\n",
        "###convert to one-hot representation (n_samples * n_symbols)"
      ],
      "metadata": {
        "id": "SxPEpcrPpZ7b"
      }
    },
    {
      "cell_type": "code",
      "source": [
        "obs_seq=np.array([\n",
        "    [1,0,0],#walk\n",
        "    [0,1,0],#shop\n",
        "    [0,0,1],#clean\n",
        "    [0,1,0],#shop\n",
        "    [1,0,0],#walk\n",
        "])"
      ],
      "metadata": {
        "id": "xqUCsPgYp1cT"
      },
      "execution_count": 50,
      "outputs": []
    },
    {
      "cell_type": "markdown",
      "source": [
        "Decode"
      ],
      "metadata": {
        "id": "EmTb1Qfmqd-J"
      }
    },
    {
      "cell_type": "code",
      "source": [
        "logprob,hidden_states=model.decode(obs_seq,algorithm=\"viterbi\")\n",
        "print(\"observed sequence:\",[observations[np.argmax(o)] for o in obs_seq])\n",
        "print(\"Most likely hidden sates:\",[states[i] for i in hidden_states])\n",
        "print(\"Log Probability:\",logprob)"
      ],
      "metadata": {
        "colab": {
          "base_uri": "https://localhost:8080/"
        },
        "id": "TtWh3xcBqgw5",
        "outputId": "a80eecd9-6888-412f-c6dd-865e0df10c6e"
      },
      "execution_count": 51,
      "outputs": [
        {
          "output_type": "stream",
          "name": "stdout",
          "text": [
            "observed sequence: ['walk', 'shop', 'clean', 'shop', 'walk']\n",
            "Most likely hidden sates: ['sunny', 'sunny', 'sunny', 'sunny', 'sunny']\n",
            "Log Probability: -6.98143109837347\n"
          ]
        }
      ]
    },
    {
      "cell_type": "code",
      "source": [],
      "metadata": {
        "id": "1z6KR4G_0uWH"
      },
      "execution_count": 51,
      "outputs": []
    }
  ]
}