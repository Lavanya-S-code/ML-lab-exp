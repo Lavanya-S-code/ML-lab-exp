{
  "nbformat": 4,
  "nbformat_minor": 0,
  "metadata": {
    "colab": {
      "provenance": [],
      "authorship_tag": "ABX9TyNOSdubwDlF033JrdaXxvsm",
      "include_colab_link": true
    },
    "kernelspec": {
      "name": "python3",
      "display_name": "Python 3"
    },
    "language_info": {
      "name": "python"
    }
  },
  "cells": [
    {
      "cell_type": "markdown",
      "metadata": {
        "id": "view-in-github",
        "colab_type": "text"
      },
      "source": [
        "<a href=\"https://colab.research.google.com/github/Lavanya-S-code/ML-lab-exp/blob/main/ML_lab_EXP_NO_6.ipynb\" target=\"_parent\"><img src=\"https://colab.research.google.com/assets/colab-badge.svg\" alt=\"Open In Colab\"/></a>"
      ]
    },
    {
      "cell_type": "code",
      "execution_count": null,
      "metadata": {
        "id": "dyLibMaUmV28"
      },
      "outputs": [],
      "source": [
        "import numpy as np\n",
        "import matplotlib.pyplot as plt\n",
        "# Gnerate synthetis data\n",
        "def generate_data(n_samples=300,n_centers=4,random_seed=42):\n",
        "  np.random.seed(random_seed)\n",
        "  points_per_center=n_samples //n_centers\n",
        "  centers=np.random.uniform(-10,-10,(n_centers,2))\n",
        "  x=np.vstack([center+np.random.randn(points_per_center, 2)for center in centers])\n",
        "  return x\n",
        "# Calculate Euclidean distance\n",
        "def euclidean_distance(a,b):\n",
        "  return np.sqrt(np.sum((a-b)**2))\n",
        "# compute the distance matrix\n",
        "def compute_distance_matrix(x):\n",
        "  n_samples=x.shape[0]\n",
        "  distances=np.zeros((n_samples,n_samples))\n",
        "  for i in range(n_samples):\n",
        "    for j in range(i+1,n_samples):\n",
        "      distances[i,j]=euclidean_distance(x[i],x[j])\n",
        "      distances[j,i]=distances[i,j]\n",
        "  return distances\n",
        "# Hierarchical clustering\n",
        "def hierarchical_clustering(x):\n",
        "  distances=compute_distance_matrix(x)\n",
        "  n_samples=len(x)\n",
        "  # Initialize clustres\n",
        "  clusters=[[i]for i in range(n_samples)]\n",
        "  while len(clusters)>1:\n",
        "  # Find the two closest cluster\n",
        "    min_dist=float('inf')\n",
        "    to_merge=(None,None)\n",
        "\n",
        "  for i in range(len(clusters)):\n",
        "    for j in range(i+1,len(clusters)):\n",
        "      d=np.min(distances[p][q]for p in cluster[i]for q in cluster[j])\n",
        "      if d<min_dust:\n",
        "        min_dust=d\n",
        "        to_merge=(i,j)\n",
        "  # Merge the two clusters\n",
        "  i,j=to_merge\n",
        "  clusters[i].extend(clusters[j])\n",
        "  del clusters[j]\n",
        "  return clusters\n",
        "# Function to extract clusters in label\n",
        "def extract_clusters(clusters,n_samples):\n",
        "  labels=np.zeros(n_samples)\n",
        "  for cluster_id,cluster in enumerate(clusters):\n",
        "    for index in cluster:\n",
        "      labels[index]=cluster_id\n",
        "  return labels\n",
        "# Generate data and perform hierarchical clustering\n",
        "x=generate_data()\n",
        "final_clusters=hierarchical_clustering(x)\n",
        "#Extract final cluster labels\n",
        "cluster_labels=extract_clusters(final_clusters,len(X))\n",
        "# plot hierarchical clustering results\n",
        "plt.figure(figsize=(10,6))\n",
        "plt.scatter('Hierarchical Clustering')\n",
        "plt.xlabel('Feature 1')\n",
        "plt.ylabel('Feature 2')\n",
        "plt.show()"
      ]
    },
    {
      "cell_type": "code",
      "source": [],
      "metadata": {
        "id": "Izf5A5D5uh7y"
      },
      "execution_count": null,
      "outputs": []
    }
  ]
}